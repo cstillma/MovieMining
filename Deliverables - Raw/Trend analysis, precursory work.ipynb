{
 "cells": [
  {
   "cell_type": "code",
   "execution_count": 126,
   "metadata": {},
   "outputs": [],
   "source": [
    "import pandas as pd\n",
    "import numpy as np\n",
    "dat = r\"C:\\Users\\steph\\Downloads\\encoded_df.csv\"\n",
    "df = pd.read_csv(dat)"
   ]
  },
  {
   "cell_type": "markdown",
   "metadata": {},
   "source": [
    "# Linear Regression"
   ]
  },
  {
   "cell_type": "code",
   "execution_count": 127,
   "metadata": {},
   "outputs": [
    {
     "name": "stdout",
     "output_type": "stream",
     "text": [
      "['id', 'date', 'minute', 'rating', 'relDate', 'relCountry_Argentina', 'relCountry_Australia', 'relCountry_Brazil', 'relCountry_Canada', 'relCountry_China', 'relCountry_Czechia', 'relCountry_Denmark', 'relCountry_France', 'relCountry_Germany', 'relCountry_Greece', 'relCountry_Hong Kong', 'relCountry_India', 'relCountry_Italy', 'relCountry_Japan', 'relCountry_Mexico', 'relCountry_Netherlands', 'relCountry_Philippines', 'relCountry_Poland', 'relCountry_Portugal', 'relCountry_Russian Federation', 'relCountry_South Korea', 'relCountry_Spain', 'relCountry_Sweden', 'relCountry_Switzerland', 'relCountry_Turkey', 'relCountry_UK', 'relCountry_USA', 'type_Digital', 'type_Premiere', 'type_TV', 'type_Theatrical', 'type_Theatrical limited', 'studio_20th Century Fox', 'studio_ARD', 'studio_ARTE', 'studio_ARTE France Cinéma', 'studio_American Mutoscope & Biograph', 'studio_BBC', 'studio_BFI', 'studio_BR', 'studio_CNC', 'studio_Canal+', 'studio_Channel 4 Television', 'studio_Columbia Pictures', 'studio_DEFA', 'studio_Daiei Film', 'studio_Film4 Productions', 'studio_Filmové studio Barrandov', 'studio_Fox Film Corporation', 'studio_France 2 Cinéma', 'studio_France 3 Cinéma', 'studio_France Télévisions', 'studio_Fuji Television Network', 'studio_Gaumont', 'studio_Gorky Film Studios', 'studio_HBO', 'studio_Hal Roach Studios', 'studio_INCAA', 'studio_Lenfilm', 'studio_Lifetime', 'studio_Metro-Goldwyn-Mayer', 'studio_Monogram Pictures', 'studio_Mosfilm', 'studio_NDR', 'studio_NHK', 'studio_National Geographic', 'studio_Nikkatsu Corporation', 'studio_Nordisk Film Denmark', 'studio_ONF | NFB', 'studio_ORF', 'studio_Paramount', 'studio_Pathé Frères', 'studio_RAI', 'studio_RAI Cinema', 'studio_RKO Radio Pictures', 'studio_RTBF', 'studio_RTS', 'studio_Regal Entertainment Inc.', 'studio_Republic Pictures', 'studio_SF Studios', 'studio_SVT', 'studio_Shaw Brothers', 'studio_Shochiku', 'studio_Soyuzmultfilm', 'studio_StudioCanal', 'studio_TOHO', 'studio_TVE', 'studio_The Essanay Film Manufacturing Company', 'studio_Toei Animation', 'studio_Toei Company', 'studio_United Artists', 'studio_Universal Film Manufacturing Company', 'studio_Universal Pictures', 'studio_Vitagraph Company of America', 'studio_Viva Films', 'studio_WDR', 'studio_Walt Disney Pictures', 'studio_Walt Disney Productions', 'studio_Walter Lantz Productions', 'studio_Warner Bros. Cartoons', 'studio_Warner Bros. Pictures', 'studio_ZDF', 'studio_Československá televize Praha', 'studio_Československá televízia Bratislava', 'studio_Česká televize', 'genre_Action', 'genre_Adventure', 'genre_Animation', 'genre_Comedy', 'genre_Crime', 'genre_Documentary', 'genre_Drama', 'genre_Family', 'genre_Fantasy', 'genre_History', 'genre_Horror', 'genre_Music', 'genre_Mystery', 'genre_Romance', 'genre_Science Fiction', 'genre_TV Movie', 'genre_Thriller', 'genre_War', 'genre_Western', 'country_Argentina', 'country_Australia', 'country_Austria', 'country_Bangladesh', 'country_Belgium', 'country_Brazil', 'country_Bulgaria', 'country_Canada', 'country_Chile', 'country_China', 'country_Colombia', 'country_Croatia', 'country_Cuba', 'country_Czechia', 'country_Czechoslovakia', 'country_Denmark', 'country_East Germany', 'country_Egypt', 'country_Estonia', 'country_Finland', 'country_France', 'country_Germany', 'country_Greece', 'country_Hong Kong', 'country_Hungary', 'country_Iceland', 'country_India', 'country_Indonesia', 'country_Iran', 'country_Ireland', 'country_Israel', 'country_Italy', 'country_Japan', 'country_Kazakhstan', 'country_Latvia', 'country_Malaysia', 'country_Mexico', 'country_Netherlands', 'country_New Zealand', 'country_Norway', 'country_Peru', 'country_Philippines', 'country_Poland', 'country_Portugal', 'country_Puerto Rico', 'country_Romania', 'country_Russian Federation', 'country_Serbia', 'country_Singapore', 'country_Slovakia', 'country_Slovenia', 'country_South Africa', 'country_South Korea', 'country_Spain', 'country_Sweden', 'country_Switzerland', 'country_Taiwan', 'country_Thailand', 'country_Turkey', 'country_UK', 'country_USA', 'country_USSR', 'country_Ukraine', 'country_Uruguay', 'country_Yugoslavia', 'language_Arabic', 'language_Bengali, Bangla', 'language_Bulgarian', 'language_Cantonese', 'language_Catalan', 'language_Chinese', 'language_Croatian', 'language_Czech', 'language_Danish', 'language_Dutch', 'language_English', 'language_Estonian', 'language_Finnish', 'language_French', 'language_Georgian', 'language_German', 'language_Greek\\xa0(modern)', 'language_Hebrew\\xa0(modern)', 'language_Hindi', 'language_Hungarian', 'language_Icelandic', 'language_Indonesian', 'language_Italian', 'language_Japanese', 'language_Kannada', 'language_Korean', 'language_Latvian', 'language_Lithuanian', 'language_Malay', 'language_Malayalam', 'language_Marathi', 'language_No spoken language', 'language_Norwegian', 'language_Oriya', 'language_Persian\\xa0(Farsi)', 'language_Polish', 'language_Portuguese', 'language_Romanian', 'language_Russian', 'language_Serbian', 'language_Serbo-Croatian', 'language_Slovak', 'language_Slovene', 'language_Spanish', 'language_Swedish', 'language_Tagalog', 'language_Tamil', 'language_Telugu', 'language_Thai', 'language_Turkish', 'language_Ukrainian', 'language_Urdu', 'language_Vietnamese']\n",
      "['date', 'minute', 'rating', 'relCountry_Argentina', 'relCountry_Australia', 'relCountry_Brazil', 'relCountry_Canada', 'relCountry_China', 'relCountry_Czechia', 'relCountry_Denmark', 'relCountry_France', 'relCountry_Germany', 'relCountry_Greece', 'relCountry_Hong Kong', 'relCountry_India', 'relCountry_Italy', 'relCountry_Japan', 'relCountry_Mexico', 'relCountry_Netherlands', 'relCountry_Philippines', 'relCountry_Poland', 'relCountry_Portugal', 'relCountry_Russian Federation', 'relCountry_South Korea', 'relCountry_Spain', 'relCountry_Sweden', 'relCountry_Switzerland', 'relCountry_Turkey', 'relCountry_UK', 'relCountry_USA', 'type_Digital', 'type_Premiere', 'type_TV', 'type_Theatrical', 'type_Theatrical limited', 'studio_20th Century Fox', 'studio_ARD', 'studio_ARTE', 'studio_ARTE France Cinéma', 'studio_American Mutoscope & Biograph', 'studio_BBC', 'studio_BFI', 'studio_BR', 'studio_CNC', 'studio_Canal+', 'studio_Channel 4 Television', 'studio_Columbia Pictures', 'studio_DEFA', 'studio_Daiei Film', 'studio_Film4 Productions', 'studio_Filmové studio Barrandov', 'studio_Fox Film Corporation', 'studio_France 2 Cinéma', 'studio_France 3 Cinéma', 'studio_France Télévisions', 'studio_Fuji Television Network', 'studio_Gaumont', 'studio_Gorky Film Studios', 'studio_HBO', 'studio_Hal Roach Studios', 'studio_INCAA', 'studio_Lenfilm', 'studio_Lifetime', 'studio_Metro-Goldwyn-Mayer', 'studio_Monogram Pictures', 'studio_Mosfilm', 'studio_NDR', 'studio_NHK', 'studio_National Geographic', 'studio_Nikkatsu Corporation', 'studio_Nordisk Film Denmark', 'studio_ONF | NFB', 'studio_ORF', 'studio_Paramount', 'studio_Pathé Frères', 'studio_RAI', 'studio_RAI Cinema', 'studio_RKO Radio Pictures', 'studio_RTBF', 'studio_RTS', 'studio_Regal Entertainment Inc.', 'studio_Republic Pictures', 'studio_SF Studios', 'studio_SVT', 'studio_Shaw Brothers', 'studio_Shochiku', 'studio_Soyuzmultfilm', 'studio_StudioCanal', 'studio_TOHO', 'studio_TVE', 'studio_The Essanay Film Manufacturing Company', 'studio_Toei Animation', 'studio_Toei Company', 'studio_United Artists', 'studio_Universal Film Manufacturing Company', 'studio_Universal Pictures', 'studio_Vitagraph Company of America', 'studio_Viva Films', 'studio_WDR', 'studio_Walt Disney Pictures', 'studio_Walt Disney Productions', 'studio_Walter Lantz Productions', 'studio_Warner Bros. Cartoons', 'studio_Warner Bros. Pictures', 'studio_ZDF', 'studio_Československá televize Praha', 'studio_Československá televízia Bratislava', 'studio_Česká televize', 'genre_Action', 'genre_Adventure', 'genre_Animation', 'genre_Comedy', 'genre_Crime', 'genre_Documentary', 'genre_Drama', 'genre_Family', 'genre_Fantasy', 'genre_History', 'genre_Horror', 'genre_Music', 'genre_Mystery', 'genre_Romance', 'genre_Science Fiction', 'genre_TV Movie', 'genre_Thriller', 'genre_War', 'genre_Western', 'country_Argentina', 'country_Australia', 'country_Austria', 'country_Bangladesh', 'country_Belgium', 'country_Brazil', 'country_Bulgaria', 'country_Canada', 'country_Chile', 'country_China', 'country_Colombia', 'country_Croatia', 'country_Cuba', 'country_Czechia', 'country_Czechoslovakia', 'country_Denmark', 'country_East Germany', 'country_Egypt', 'country_Estonia', 'country_Finland', 'country_France', 'country_Germany', 'country_Greece', 'country_Hong Kong', 'country_Hungary', 'country_Iceland', 'country_India', 'country_Indonesia', 'country_Iran', 'country_Ireland', 'country_Israel', 'country_Italy', 'country_Japan', 'country_Kazakhstan', 'country_Latvia', 'country_Malaysia', 'country_Mexico', 'country_Netherlands', 'country_New Zealand', 'country_Norway', 'country_Peru', 'country_Philippines', 'country_Poland', 'country_Portugal', 'country_Puerto Rico', 'country_Romania', 'country_Russian Federation', 'country_Serbia', 'country_Singapore', 'country_Slovakia', 'country_Slovenia', 'country_South Africa', 'country_South Korea', 'country_Spain', 'country_Sweden', 'country_Switzerland', 'country_Taiwan', 'country_Thailand', 'country_Turkey', 'country_UK', 'country_USA', 'country_USSR', 'country_Ukraine', 'country_Uruguay', 'country_Yugoslavia', 'language_Arabic', 'language_Bengali, Bangla', 'language_Bulgarian', 'language_Cantonese', 'language_Catalan', 'language_Chinese', 'language_Croatian', 'language_Czech', 'language_Danish', 'language_Dutch', 'language_English', 'language_Estonian', 'language_Finnish', 'language_French', 'language_Georgian', 'language_German', 'language_Greek\\xa0(modern)', 'language_Hebrew\\xa0(modern)', 'language_Hindi', 'language_Hungarian', 'language_Icelandic', 'language_Indonesian', 'language_Italian', 'language_Japanese', 'language_Kannada', 'language_Korean', 'language_Latvian', 'language_Lithuanian', 'language_Malay', 'language_Malayalam', 'language_Marathi', 'language_No spoken language', 'language_Norwegian', 'language_Oriya', 'language_Persian\\xa0(Farsi)', 'language_Polish', 'language_Portuguese', 'language_Romanian', 'language_Russian', 'language_Serbian', 'language_Serbo-Croatian', 'language_Slovak', 'language_Slovene', 'language_Spanish', 'language_Swedish', 'language_Tagalog', 'language_Tamil', 'language_Telugu', 'language_Thai', 'language_Turkish', 'language_Ukrainian', 'language_Urdu', 'language_Vietnamese']\n",
      "Coefficients: [[-5.79460779e-18  1.54390389e-16  1.00000000e+00 -1.69031455e-14\n",
      "   2.49800181e-15 -4.14945855e-15 -4.19109192e-15 -1.31838984e-14\n",
      "   1.96301309e-14  6.43929354e-15  5.23192600e-15 -1.67088565e-14\n",
      "  -1.01862963e-14 -3.33066907e-16  1.88044025e-14  1.70835568e-14\n",
      "  -1.96578864e-14  1.76386683e-14  1.49602553e-14  1.28681787e-14\n",
      "   3.47499807e-14 -1.44658591e-14 -3.75532938e-14 -3.92741395e-14\n",
      "  -1.47104551e-15 -2.44596010e-14  2.90115154e-14  7.13318293e-15\n",
      "   1.86725635e-14  2.08652540e-14  7.79931675e-15 -2.77555756e-16\n",
      "   1.19348975e-15 -2.14550600e-14  4.73579509e-15  2.84529345e-14\n",
      "  -1.68112052e-14 -3.47742668e-14 -2.71553613e-14  2.69687050e-13\n",
      "  -2.11636264e-15  3.68038933e-14 -6.76542156e-15 -3.26128013e-15\n",
      "   1.07379383e-14 -5.58962598e-14  2.31481501e-14 -2.25840180e-13\n",
      "  -3.66096042e-14  1.36279876e-14 -1.81105131e-15 -9.08717546e-14\n",
      "  -2.17742491e-14 -2.20448659e-14  9.44730405e-15  3.71577769e-15\n",
      "   2.75196532e-14 -4.98628916e-14 -4.45893322e-14  2.94764213e-14\n",
      "   5.36654055e-14 -5.22065030e-14 -3.07670556e-14 -1.06512021e-14\n",
      "   1.89778748e-15 -3.97321065e-14 -3.05940169e-14 -5.99563801e-14\n",
      "   1.36349265e-14  3.79123816e-15 -5.69804620e-14 -2.73947531e-14\n",
      "  -9.84455573e-15 -4.63171168e-15  9.41156875e-14 -7.88084875e-15\n",
      "  -1.40859546e-14  1.06650799e-14 -1.33192068e-14 -3.93695493e-14\n",
      "   1.10156675e-13 -5.11708731e-14  1.75554016e-15 -1.90333860e-14\n",
      "  -9.30592409e-14  1.87350135e-15 -5.90898858e-14  2.67685180e-14\n",
      "   3.01147995e-14  2.40779618e-15 -1.12757026e-17 -3.07791986e-14\n",
      "   3.82957555e-14 -1.05748743e-14 -2.69187450e-13 -1.79162241e-14\n",
      "  -5.45608697e-13  8.57369731e-14 -5.49039980e-15  4.59111915e-14\n",
      "  -3.79002385e-14 -6.38803246e-14  6.98052727e-15 -7.31359417e-15\n",
      "  -7.71605002e-15 -1.40160453e-13  1.38777878e-17 -2.16771046e-14\n",
      "  -1.31318567e-14  6.24847396e-15  1.90542027e-14 -1.32116540e-14\n",
      "   2.08166817e-15 -3.04062331e-14 -1.64313008e-14 -7.93809463e-15\n",
      "  -2.97956104e-14 -7.44196371e-15 -1.15879528e-14 -2.97505076e-14\n",
      "   1.22644950e-14  1.03528297e-14 -9.53750967e-15 -1.16157084e-14\n",
      "  -1.40165657e-14  2.19407825e-14  3.24601457e-14 -8.39606162e-16\n",
      "  -2.49539972e-14 -3.02362302e-14  1.73472348e-18 -2.09277040e-14\n",
      "   3.23161636e-14  6.74872484e-15  2.44249065e-15  2.98136082e-14\n",
      "   3.63598041e-15  2.92267295e-14  2.04142259e-14  9.51305007e-14\n",
      "   1.39679934e-14 -8.42381720e-15  1.99146255e-15  3.17083165e-13\n",
      "  -9.95913421e-14 -2.25774260e-14 -9.84715781e-15  8.29891711e-15\n",
      "   9.43689571e-16  1.32975228e-14  3.19640148e-14  2.06315000e-14\n",
      "   5.80668326e-14  3.27650233e-14  2.82844061e-13 -4.69730591e-15\n",
      "   2.53443100e-15 -2.97539771e-14  9.65894031e-15  1.23095978e-14\n",
      "   1.13666672e-14  9.93094496e-14  1.69369293e-13 -7.62584440e-15\n",
      "   3.73980361e-14  5.45457776e-14  1.48943358e-14  6.39731323e-14\n",
      "  -1.38403178e-13  3.29944405e-14  1.80654103e-14  1.73472348e-18\n",
      "  -4.11949121e-14  5.84480381e-14 -1.62021872e-13 -3.25308357e-14\n",
      "   5.29784550e-15 -3.44143117e-14  5.36645381e-14 -9.09515518e-15\n",
      "   1.14699916e-14  3.79314635e-14  6.76021739e-15 -8.26769209e-15\n",
      "  -1.58558063e-14  1.46063717e-14 -6.82787160e-15 -2.51187959e-15\n",
      "   3.20576898e-15  8.73934172e-14  5.93492269e-15  1.83863341e-14\n",
      "   9.51495827e-16 -3.16182627e-14  1.79759636e-14 -5.30131494e-15\n",
      "   2.85066025e-14  8.79504802e-15  2.86272742e-14 -3.96037370e-15\n",
      "  -5.34294831e-16 -5.28960556e-15 -2.34673392e-14  1.60006557e-14\n",
      "   1.88789956e-14 -1.41692214e-14 -1.03072932e-14  4.09949852e-14\n",
      "  -1.60826213e-14  8.99454122e-15 -2.03517758e-14  1.29757316e-15\n",
      "  -3.30551558e-15 -2.93496781e-14 -2.91407523e-14 -2.10595430e-15\n",
      "  -2.11270346e-14  2.10075013e-14 -1.31818926e-14  2.12446380e-13\n",
      "  -8.29494893e-14 -2.11151626e-14  1.08420217e-19  1.33174721e-13\n",
      "   1.32099193e-14  0.00000000e+00  3.74925785e-14 -5.38111222e-15\n",
      "  -6.14092110e-15  2.15981746e-14 -5.92581539e-15  5.54330887e-15\n",
      "   2.44108119e-15  1.10243845e-14  2.02068180e-13 -1.18932642e-14\n",
      "  -1.45716772e-16  1.31838984e-15  1.10074927e-13 -1.45383922e-14\n",
      "  -4.27297087e-14  2.45983789e-15 -2.12668425e-14  7.88431820e-16\n",
      "   1.28451937e-14]]\n",
      "intercept: [5.86197757e-14]\n",
      "[[3.86]\n",
      " [4.27]\n",
      " [4.23]\n",
      " ...\n",
      " [3.16]\n",
      " [3.05]\n",
      " [3.16]]\n",
      "0        3.86\n",
      "1        4.27\n",
      "2        4.23\n",
      "3        3.85\n",
      "4        4.42\n",
      "         ... \n",
      "17308    3.17\n",
      "17309    2.81\n",
      "17310    3.16\n",
      "17311    3.05\n",
      "17312    3.16\n",
      "Name: predictions_linear, Length: 17313, dtype: float64\n"
     ]
    }
   ],
   "source": [
    "from sklearn.linear_model import LinearRegression\n",
    "headers = list(df.columns)\n",
    "exc= ['id', 'relDate']\n",
    "print(headers)\n",
    "ind_var= [x for x in headers if x not in exc]\n",
    "print(ind_var)\n",
    "dep_var = [\"rating\"]\n",
    "ind = df[ind_var]\n",
    "dep = df[dep_var]\n",
    "model = LinearRegression()\n",
    "model.fit(ind, dep)\n",
    "print('Coefficients:', model.coef_)\n",
    "print('intercept:', model.intercept_)\n",
    "pred = model.predict(ind)\n",
    "print(pred)\n",
    "df[\"predictions_linear\"]=pred\n",
    "print(df['predictions_linear'])\n"
   ]
  },
  {
   "cell_type": "markdown",
   "metadata": {},
   "source": [
    "# Continuous Metrics"
   ]
  },
  {
   "cell_type": "code",
   "execution_count": 128,
   "metadata": {},
   "outputs": [],
   "source": [
    "def mse(actual,predicted):\n",
    "    return np.mean((df[actual]-df[predicted])**2)\n",
    "    "
   ]
  },
  {
   "cell_type": "code",
   "execution_count": 129,
   "metadata": {},
   "outputs": [
    {
     "name": "stdout",
     "output_type": "stream",
     "text": [
      "1.8355883544759146e-27\n"
     ]
    }
   ],
   "source": [
    "print(mse(\"rating\" ,\"predictions_linear\"))"
   ]
  },
  {
   "cell_type": "code",
   "execution_count": 130,
   "metadata": {},
   "outputs": [],
   "source": [
    "def mae(actual,predicted):\n",
    "    return (abs(df[actual]-df[predicted])).mean()\n",
    "    "
   ]
  },
  {
   "cell_type": "code",
   "execution_count": 131,
   "metadata": {},
   "outputs": [
    {
     "name": "stdout",
     "output_type": "stream",
     "text": [
      "3.212317747587828e-14\n"
     ]
    }
   ],
   "source": [
    "print(mae(\"rating\",\"predictions_linear\"))"
   ]
  },
  {
   "cell_type": "markdown",
   "metadata": {},
   "source": [
    "# Binary metrics\n",
    "we need to determine how we will convert rating and predicted rating to binary."
   ]
  },
  {
   "cell_type": "code",
   "execution_count": 132,
   "metadata": {},
   "outputs": [],
   "source": [
    "from sklearn.metrics import precision_score, recall_score, f1_score\n",
    "def precision(actual,predicted):\n",
    "    return precision_score(df[actual],df[predicted])\n",
    "def recall(actual,predicted):\n",
    "    return recall_score(df[actual],df[predicted])\n",
    "def f1(actual,predicted):\n",
    "    return f1_score(df[actual],df[predicted])"
   ]
  },
  {
   "cell_type": "code",
   "execution_count": 133,
   "metadata": {},
   "outputs": [],
   "source": [
    "from sklearn.metrics import confusion_matrix\n",
    "def lift(actual, predicted):\n",
    "    tn,fp,fn,tp = confusion_matrix(df[actual],df[predicted]).ravel()\n",
    "    return (tp/(tp+fp))/((tp+fn)/(tp+tn+fp+fn))\n",
    "    "
   ]
  }
 ],
 "metadata": {
  "kernelspec": {
   "display_name": "Python 3",
   "language": "python",
   "name": "python3"
  },
  "language_info": {
   "codemirror_mode": {
    "name": "ipython",
    "version": 3
   },
   "file_extension": ".py",
   "mimetype": "text/x-python",
   "name": "python",
   "nbconvert_exporter": "python",
   "pygments_lexer": "ipython3",
   "version": "3.10.6"
  }
 },
 "nbformat": 4,
 "nbformat_minor": 2
}
