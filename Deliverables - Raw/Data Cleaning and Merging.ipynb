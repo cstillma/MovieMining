{
 "cells": [
  {
   "cell_type": "code",
   "execution_count": 53,
   "metadata": {},
   "outputs": [],
   "source": [
    "import pandas as pd\n",
    "rel = r\"C:\\Users\\steph\\Downloads\\archive\\releases.csv\"\n",
    "releases = pd.read_csv(rel)\n",
    "stu = r\"C:\\Users\\steph\\Downloads\\archive\\studios.csv\"\n",
    "studios = pd.read_csv(stu)\n",
    "mov = r\"C:\\Users\\steph\\Downloads\\archive\\movies.csv\"\n",
    "movies = pd.read_csv(mov)\n",
    "gen = r\"C:\\Users\\steph\\Downloads\\archive\\genres.csv\"\n",
    "genres = pd.read_csv(gen)\n",
    "lan = r\"C:\\Users\\steph\\Downloads\\archive\\languages.csv\"\n",
    "languages = pd.read_csv(lan)\n",
    "cou = r\"C:\\Users\\steph\\Downloads\\archive\\countries.csv\"\n",
    "countries = pd.read_csv(cou)"
   ]
  },
  {
   "cell_type": "code",
   "execution_count": 60,
   "metadata": {},
   "outputs": [],
   "source": [
    "releases = releases[[\"id\", \"country\", \"date\", \"type\"]]\n",
    "#remove rating as we arent tracking this and most of our database is missing this metric\n",
    "releases = releases.dropna()\n",
    "studios = studios.dropna()\n",
    "movies = movies.dropna()\n",
    "genres = genres.dropna()\n",
    "languages = languages.dropna()\n",
    "countries = countries.dropna()\n",
    "#remove any rows that include N/A for any values.\n",
    "releases = releases[releases['type']!= \"Physical\"]\n",
    "#remove any physical releases from database\n",
    "keep = [\"Language\", \"Primary language\"]\n",
    "languages = languages[languages['type'].isin(keep) ] \n",
    "#only track primary language or films only published in one language, adding secondary creates an excessive amount of variables."
   ]
  },
  {
   "cell_type": "code",
   "execution_count": 55,
   "metadata": {},
   "outputs": [],
   "source": [
    "result1 = pd.merge(releases, studios, on=\"id\", how =\"inner\")\n",
    "result2 = pd.merge(genres, movies[[\"id\", \"name\", \"date\", \"minute\", \"rating\"]], on=\"id\", how =\"inner\")\n",
    "#remove description and tagline\n",
    "result3 = pd.merge(languages, countries, on=\"id\", how =\"inner\")\n",
    "#merge dataframes on the common key id if all values are present for given row"
   ]
  },
  {
   "cell_type": "code",
   "execution_count": 58,
   "metadata": {},
   "outputs": [
    {
     "name": "stdout",
     "output_type": "stream",
     "text": [
      "              id country_x        date      type_x                   studio  \\\n",
      "0        1000001   Andorra  2023-07-21  Theatrical  LuckyChap Entertainment   \n",
      "1        1000001   Andorra  2023-07-21  Theatrical  LuckyChap Entertainment   \n",
      "2        1000001   Andorra  2023-07-21  Theatrical  LuckyChap Entertainment   \n",
      "3        1000001   Andorra  2023-07-21  Theatrical  LuckyChap Entertainment   \n",
      "4        1000001   Andorra  2023-07-21  Theatrical             Heyday Films   \n",
      "...          ...       ...         ...         ...                      ...   \n",
      "4677378  1164849    Sweden  1996-12-25  Theatrical   Blackstone Pictures AB   \n",
      "4677379  1164849    Sweden  1996-12-25  Theatrical                Cinetofon   \n",
      "4677380  1164849    Sweden  1996-12-25  Theatrical                Cinetofon   \n",
      "4677381  1164849    Sweden  1996-12-25  Theatrical                 Sandrews   \n",
      "4677382  1164849    Sweden  1996-12-25  Theatrical                 Sandrews   \n",
      "\n",
      "             genre              name  minute  rating    type_y language  \\\n",
      "0           Comedy            Barbie   114.0    3.86  Language  English   \n",
      "1           Comedy            Barbie   114.0    3.86  Language  English   \n",
      "2        Adventure            Barbie   114.0    3.86  Language  English   \n",
      "3        Adventure            Barbie   114.0    3.86  Language  English   \n",
      "4           Comedy            Barbie   114.0    3.86  Language  English   \n",
      "...            ...               ...     ...     ...       ...      ...   \n",
      "4677378      Crime  To Steal a Thief    93.0    2.95  Language  Swedish   \n",
      "4677379     Comedy  To Steal a Thief    93.0    2.95  Language  Swedish   \n",
      "4677380      Crime  To Steal a Thief    93.0    2.95  Language  Swedish   \n",
      "4677381     Comedy  To Steal a Thief    93.0    2.95  Language  Swedish   \n",
      "4677382      Crime  To Steal a Thief    93.0    2.95  Language  Swedish   \n",
      "\n",
      "        country_y  \n",
      "0              UK  \n",
      "1             USA  \n",
      "2              UK  \n",
      "3             USA  \n",
      "4              UK  \n",
      "...           ...  \n",
      "4677378    Sweden  \n",
      "4677379    Sweden  \n",
      "4677380    Sweden  \n",
      "4677381    Sweden  \n",
      "4677382    Sweden  \n",
      "\n",
      "[4677383 rows x 12 columns]\n"
     ]
    }
   ],
   "source": [
    "result4 = pd.merge(result1, result2[[\"id\", \"genre\", \"name\", \"minute\", \"rating\"]], on=\"id\", how =\"inner\") \n",
    "#remove the second date that includes only year.\n",
    "result = pd.merge(result4, result3, on=\"id\", how =\"inner\")\n",
    "print(result)"
   ]
  },
  {
   "cell_type": "code",
   "execution_count": 57,
   "metadata": {},
   "outputs": [],
   "source": [
    "result.to_csv(r\"C:\\Users\\steph\\Downloads\\archive\\merged_movies.csv\")\n"
   ]
  }
 ],
 "metadata": {
  "kernelspec": {
   "display_name": "Python 3",
   "language": "python",
   "name": "python3"
  },
  "language_info": {
   "codemirror_mode": {
    "name": "ipython",
    "version": 3
   },
   "file_extension": ".py",
   "mimetype": "text/x-python",
   "name": "python",
   "nbconvert_exporter": "python",
   "pygments_lexer": "ipython3",
   "version": "3.10.6"
  }
 },
 "nbformat": 4,
 "nbformat_minor": 2
}
